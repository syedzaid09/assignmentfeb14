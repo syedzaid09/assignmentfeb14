{
 "cells": [
  {
   "cell_type": "markdown",
   "id": "f45ca0a4-00aa-4e98-b08e-d5bbc124c0cd",
   "metadata": {},
   "source": [
    "Qus1.What is multithreading in python? Why is it used? Name the module used to handle threads in python."
   ]
  },
  {
   "cell_type": "markdown",
   "id": "4454f2a8-a9ed-4779-afe6-9665bb5d570a",
   "metadata": {},
   "source": [
    "Multithreading in Python is a popular technique that enables multiple tasks to be executed simultaneously. In simple words, the ability of a processor to execute multiple threads simultaneously is known as multithreading.\n",
    "\n",
    "Multithreading in Python should be used only when there is no existing inter-dependency between the threads.\n",
    "All important aspects such as performance, rendering, speed and time consumption will drastically be improved by using proper Python multithreading.\n",
    "\n",
    "the module used to handle threads in python are:-\n",
    "* the thread module\n",
    "* the threading module"
   ]
  },
  {
   "cell_type": "markdown",
   "id": "d1fd4289-45f5-47ab-814c-88884be7b8c1",
   "metadata": {},
   "source": [
    "Qus2.Why threading module used? Write the use of the following functions:\n",
    "1. activeCount()\n",
    "2. currentThread()\n",
    "3. enumerate()"
   ]
  },
  {
   "cell_type": "markdown",
   "id": "0ad5b02f-b2bc-44b5-a9e0-26b6c6e1547d",
   "metadata": {},
   "source": [
    "The threading module is a high-level implementation of multithreading used to deploy an application in Python. To use multithreading, we need to import the threading module in Python Program.\n",
    "1. activeCount() − This function returns the number of currently active Thread objects. This value is equal to the length of the list that the function enumerate() returns. \n",
    "2. currentThread() − This function returns the current Thread object. The thread returned will depend on the thread of control at the caller’s end. If this thread isn’t through ‘threading’, it returns a dummy thread object that has limited functionality.\n",
    "3. enumerate() − This returns a list of Thread objects that are currently active. This includes the main thread, daemonic threads, and dummy thread objects created by current_thread(). "
   ]
  },
  {
   "cell_type": "markdown",
   "id": "9c296e3b-d733-442b-b1be-d55f86f10fb0",
   "metadata": {},
   "source": [
    "Qus3. Explain the following functions:\n",
    "1. run()\n",
    "2. start()\n",
    "3. join()\n",
    "4. isAlive()"
   ]
  },
  {
   "cell_type": "markdown",
   "id": "49c78636-73b5-4333-8b92-70959567a4f9",
   "metadata": {},
   "source": [
    "1. run() − This function invokes the callable object we passed to the constructor as the target argument if it exists. While calling the target, the args and kwargs are given to the object. We can override this function in a subclass.\n",
    "2. start() − This function starts the thread activity. We get a RuntimeError if we call it more than once. So,it should be called only once for a thread instance.\n",
    "3. join() − This function is used when we want the program to wait until the thread execution is completed. It blocks the calling of thread until the one on which we call join() terminates normally or with an exception, or until timeout is reached.\n",
    "4. isAlive() − This function is used to check if the thread is alive or not. It returns true for a thread if it is in the phase between the starting of the run() function and the stage after it terminates. We can check it as shown below."
   ]
  },
  {
   "cell_type": "markdown",
   "id": "6d118f16-f64d-4de9-93d9-3ddfbef31696",
   "metadata": {},
   "source": [
    "Qus4. Write a python program to create two threads. Thread one must print the list of squares and thread two must print the list of cubes."
   ]
  },
  {
   "cell_type": "code",
   "execution_count": 2,
   "id": "5192df53-a927-4065-b901-aa2c2af29455",
   "metadata": {},
   "outputs": [
    {
     "name": "stdout",
     "output_type": "stream",
     "text": [
      "List of squares:\n",
      "1\n",
      "4\n",
      "9\n",
      "16\n",
      "25\n",
      "36\n",
      "49\n",
      "64\n",
      "81\n",
      "100\n",
      "List of cubes:\n",
      "1\n",
      "8\n",
      "27\n",
      "64\n",
      "125\n",
      "216\n",
      "343\n",
      "512\n",
      "729\n",
      "1000\n"
     ]
    }
   ],
   "source": [
    "import threading\n",
    "\n",
    "def print_squares():\n",
    "    squares=[x**2 for x in range(1,11)]\n",
    "    print(\"List of squares:\")\n",
    "    for square in squares:\n",
    "        print(square)\n",
    "        \n",
    "def print_cubes():\n",
    "    cubes=[x**3 for x in range(1,11)]\n",
    "    print(\"List of cubes:\")\n",
    "    for cube in cubes:\n",
    "        print(cube)\n",
    "        \n",
    "t1=threading.Thread(target=print_squares)\n",
    "t2=threading.Thread(target=print_cubes)\n",
    "\n",
    "t1.start()\n",
    "t2.start()\n",
    "\n",
    "t1.join()\n",
    "t2.join()"
   ]
  },
  {
   "cell_type": "markdown",
   "id": "e96ac336-3889-4b61-a261-79efc6fe2eee",
   "metadata": {},
   "source": [
    "Qus5.State advantages and disadvantages of multithreading.\n"
   ]
  },
  {
   "cell_type": "markdown",
   "id": "6ed925c8-f31b-406c-a80c-3f1e3e775b0f",
   "metadata": {},
   "source": [
    "Advantages :\n",
    "1. Since the threads are independent of each other, the user is not blocked.\n",
    "2. Since the threads do parallel execution, the resources of the device can be used efficiently.\n",
    "3. Enhance the performance of the multi-processor machines.\n",
    "4. Many of the GUIs and CPUs used in the current days include multithreading.\n",
    "\n",
    "Disadvantages:\n",
    "1. The complexity increases with the increase in the number of threads\n",
    "2. It is necessary to maintain synchronization while sharing the resources among multiple threads\n",
    "3. It is difficult to debug the programs with threads as the result is sometimes unpredictable.\n",
    "4. The process of constructing and synchronizing the threads is CPU/memory intensive."
   ]
  },
  {
   "cell_type": "markdown",
   "id": "25fa3fb4-316d-4032-89d2-5c0c1be8dd14",
   "metadata": {},
   "source": [
    "Qus6.Explain deadlocks and race conditions."
   ]
  },
  {
   "cell_type": "markdown",
   "id": "6799ea4a-735f-4a05-b74f-1dce0f5478ae",
   "metadata": {},
   "source": [
    "Deadlocks:\n",
    "A deadlock is a concurrency failure mode where a thread or threads wait for a condition that never occurs.\n",
    "\n",
    "The result is that the deadlock threads are unable to progress and the program is stuck or frozen and must be terminated forcefully.\n",
    "\n",
    "Race Conditions:\n",
    "A race condition occurs when two threads try to access a shared variable simultaneously.\n",
    "\n",
    "The first thread reads the value from the shared variable. The second thread also reads the value from the same shared variable.\n",
    "\n",
    "Then both threads try to change the value of the shared variable. And they race to see which thread writes a value to the variable last."
   ]
  }
 ],
 "metadata": {
  "kernelspec": {
   "display_name": "Python 3 (ipykernel)",
   "language": "python",
   "name": "python3"
  },
  "language_info": {
   "codemirror_mode": {
    "name": "ipython",
    "version": 3
   },
   "file_extension": ".py",
   "mimetype": "text/x-python",
   "name": "python",
   "nbconvert_exporter": "python",
   "pygments_lexer": "ipython3",
   "version": "3.10.8"
  }
 },
 "nbformat": 4,
 "nbformat_minor": 5
}
